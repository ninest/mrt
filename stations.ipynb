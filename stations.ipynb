{
 "cells": [
  {
   "cell_type": "code",
   "execution_count": 86,
   "metadata": {},
   "outputs": [
    {
     "data": {
      "text/html": [
       "<div>\n",
       "<style scoped>\n",
       "    .dataframe tbody tr th:only-of-type {\n",
       "        vertical-align: middle;\n",
       "    }\n",
       "\n",
       "    .dataframe tbody tr th {\n",
       "        vertical-align: top;\n",
       "    }\n",
       "\n",
       "    .dataframe thead th {\n",
       "        text-align: right;\n",
       "    }\n",
       "</style>\n",
       "<table border=\"1\" class=\"dataframe\">\n",
       "  <thead>\n",
       "    <tr style=\"text-align: right;\">\n",
       "      <th></th>\n",
       "      <th>OBJECTID</th>\n",
       "      <th>STN_NAME</th>\n",
       "      <th>STN_NO</th>\n",
       "      <th>X</th>\n",
       "      <th>Y</th>\n",
       "      <th>Latitude</th>\n",
       "      <th>Longitude</th>\n",
       "      <th>COLOR</th>\n",
       "    </tr>\n",
       "  </thead>\n",
       "  <tbody>\n",
       "    <tr>\n",
       "      <th>0</th>\n",
       "      <td>12</td>\n",
       "      <td>ADMIRALTY MRT STATION</td>\n",
       "      <td>NS10</td>\n",
       "      <td>24402.1063</td>\n",
       "      <td>46918.1131</td>\n",
       "      <td>1.440585</td>\n",
       "      <td>103.800998</td>\n",
       "      <td>RED</td>\n",
       "    </tr>\n",
       "    <tr>\n",
       "      <th>1</th>\n",
       "      <td>16</td>\n",
       "      <td>ALJUNIED MRT STATION</td>\n",
       "      <td>EW9</td>\n",
       "      <td>33518.6049</td>\n",
       "      <td>33190.0020</td>\n",
       "      <td>1.316433</td>\n",
       "      <td>103.882893</td>\n",
       "      <td>GREEN</td>\n",
       "    </tr>\n",
       "    <tr>\n",
       "      <th>2</th>\n",
       "      <td>33</td>\n",
       "      <td>ANG MO KIO MRT STATION</td>\n",
       "      <td>NS16</td>\n",
       "      <td>29807.2655</td>\n",
       "      <td>39105.7720</td>\n",
       "      <td>1.369933</td>\n",
       "      <td>103.849553</td>\n",
       "      <td>RED</td>\n",
       "    </tr>\n",
       "    <tr>\n",
       "      <th>3</th>\n",
       "      <td>81</td>\n",
       "      <td>BAKAU LRT STATION</td>\n",
       "      <td>SE3</td>\n",
       "      <td>36026.0821</td>\n",
       "      <td>41113.8766</td>\n",
       "      <td>1.388093</td>\n",
       "      <td>103.905418</td>\n",
       "      <td>OTHERS</td>\n",
       "    </tr>\n",
       "    <tr>\n",
       "      <th>4</th>\n",
       "      <td>80</td>\n",
       "      <td>BANGKIT LRT STATION</td>\n",
       "      <td>BP9</td>\n",
       "      <td>21248.2460</td>\n",
       "      <td>40220.9693</td>\n",
       "      <td>1.380018</td>\n",
       "      <td>103.772667</td>\n",
       "      <td>OTHERS</td>\n",
       "    </tr>\n",
       "  </tbody>\n",
       "</table>\n",
       "</div>"
      ],
      "text/plain": [
       "   OBJECTID                STN_NAME STN_NO           X           Y  Latitude  \\\n",
       "0        12   ADMIRALTY MRT STATION   NS10  24402.1063  46918.1131  1.440585   \n",
       "1        16    ALJUNIED MRT STATION    EW9  33518.6049  33190.0020  1.316433   \n",
       "2        33  ANG MO KIO MRT STATION   NS16  29807.2655  39105.7720  1.369933   \n",
       "3        81       BAKAU LRT STATION    SE3  36026.0821  41113.8766  1.388093   \n",
       "4        80     BANGKIT LRT STATION    BP9  21248.2460  40220.9693  1.380018   \n",
       "\n",
       "    Longitude   COLOR  \n",
       "0  103.800998     RED  \n",
       "1  103.882893   GREEN  \n",
       "2  103.849553     RED  \n",
       "3  103.905418  OTHERS  \n",
       "4  103.772667  OTHERS  "
      ]
     },
     "execution_count": 86,
     "metadata": {},
     "output_type": "execute_result"
    }
   ],
   "source": [
    "import pandas as pd\n",
    "\n",
    "df = pd.read_csv('https://query.data.world/s/aluy6k2yrywsry7ootraags7dcjvhl')\n",
    "\n",
    "df.head()"
   ]
  },
  {
   "cell_type": "code",
   "execution_count": 87,
   "metadata": {},
   "outputs": [],
   "source": [
    "all_lines = {}\n",
    "\n",
    "# get all COLORS and sort them in 'lines' object\n",
    "for color in df['COLOR']:\n",
    "    if not color == 'OTHERS':\n",
    "        all_lines[color] = df.loc[df['COLOR'] == color]\n",
    "# all_lines['RED'] = df.loc[df['COLOR'] == 'RED']"
   ]
  },
  {
   "cell_type": "code",
   "execution_count": 88,
   "metadata": {},
   "outputs": [
    {
     "name": "stderr",
     "output_type": "stream",
     "text": [
      "/usr/local/lib/python3.7/site-packages/ipykernel_launcher.py:8: SettingWithCopyWarning: \n",
      "A value is trying to be set on a copy of a slice from a DataFrame.\n",
      "Try using .loc[row_indexer,col_indexer] = value instead\n",
      "\n",
      "See the caveats in the documentation: http://pandas.pydata.org/pandas-docs/stable/user_guide/indexing.html#returning-a-view-versus-a-copy\n",
      "  \n"
     ]
    }
   ],
   "source": [
    "for line in all_lines.items():\n",
    "    color = line[0]\n",
    "    \n",
    "    # get line code\n",
    "    line_code = line[1]['STN_NO'].iloc[0][:2]\n",
    "    \n",
    "    # remove line code (EW, NS) from STN_NO\n",
    "    all_lines[color]['STN_NO'] = line[1]['STN_NO'].map(lambda stn: int(stn.split(line_code)[1]))\n",
    "    \n",
    "    # sorting\n",
    "    all_lines[color] = all_lines[color].sort_values('STN_NO')"
   ]
  },
  {
   "cell_type": "code",
   "execution_count": 1,
   "metadata": {},
   "outputs": [
    {
     "ename": "NameError",
     "evalue": "name 'all_lines' is not defined",
     "output_type": "error",
     "traceback": [
      "\u001b[0;31m---------------------------------------------------------------------------\u001b[0m",
      "\u001b[0;31mNameError\u001b[0m                                 Traceback (most recent call last)",
      "\u001b[0;32m<ipython-input-1-c43c3a3884d5>\u001b[0m in \u001b[0;36m<module>\u001b[0;34m\u001b[0m\n\u001b[1;32m      1\u001b[0m \u001b[0;31m# getting arrays of all\u001b[0m\u001b[0;34m\u001b[0m\u001b[0;34m\u001b[0m\u001b[0;34m\u001b[0m\u001b[0m\n\u001b[0;32m----> 2\u001b[0;31m \u001b[0;32mfor\u001b[0m \u001b[0mline\u001b[0m \u001b[0;32min\u001b[0m \u001b[0mall_lines\u001b[0m\u001b[0;34m.\u001b[0m\u001b[0mitems\u001b[0m\u001b[0;34m(\u001b[0m\u001b[0;34m)\u001b[0m\u001b[0;34m:\u001b[0m\u001b[0;34m\u001b[0m\u001b[0;34m\u001b[0m\u001b[0m\n\u001b[0m\u001b[1;32m      3\u001b[0m     \u001b[0mprint\u001b[0m\u001b[0;34m(\u001b[0m\u001b[0mline\u001b[0m\u001b[0;34m[\u001b[0m\u001b[0;36m0\u001b[0m\u001b[0;34m]\u001b[0m\u001b[0;34m)\u001b[0m\u001b[0;34m\u001b[0m\u001b[0;34m\u001b[0m\u001b[0m\n\u001b[1;32m      4\u001b[0m \u001b[0;34m\u001b[0m\u001b[0m\n\u001b[1;32m      5\u001b[0m     \u001b[0;32mfor\u001b[0m \u001b[0mindex\u001b[0m\u001b[0;34m,\u001b[0m \u001b[0mrow\u001b[0m \u001b[0;32min\u001b[0m \u001b[0mline\u001b[0m\u001b[0;34m[\u001b[0m\u001b[0;36m1\u001b[0m\u001b[0;34m]\u001b[0m\u001b[0;34m.\u001b[0m\u001b[0miterrows\u001b[0m\u001b[0;34m(\u001b[0m\u001b[0;34m)\u001b[0m\u001b[0;34m:\u001b[0m\u001b[0;34m\u001b[0m\u001b[0;34m\u001b[0m\u001b[0m\n",
      "\u001b[0;31mNameError\u001b[0m: name 'all_lines' is not defined"
     ]
    }
   ],
   "source": [
    "# getting arrays of all\n",
    "for line in all_lines.items():\n",
    "    print(line[0])\n",
    "    \n",
    "    for index, row in line[1].iterrows():\n",
    "        print(f\"[\\'{row['Longitude']}\\', \\'{row['Latitude']}\\'],\", end='')\n",
    "  \n",
    "    print('\\n\\n')"
   ]
  },
  {
   "cell_type": "code",
   "execution_count": null,
   "metadata": {},
   "outputs": [],
   "source": []
  }
 ],
 "metadata": {
  "kernelspec": {
   "display_name": "Python 3",
   "language": "python",
   "name": "python3"
  },
  "language_info": {
   "codemirror_mode": {
    "name": "ipython",
    "version": 3
   },
   "file_extension": ".py",
   "mimetype": "text/x-python",
   "name": "python",
   "nbconvert_exporter": "python",
   "pygments_lexer": "ipython3",
   "version": "3.7.6-final"
  }
 },
 "nbformat": 4,
 "nbformat_minor": 2
}